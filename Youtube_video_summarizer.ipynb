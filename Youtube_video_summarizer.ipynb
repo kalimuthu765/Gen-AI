{
  "nbformat": 4,
  "nbformat_minor": 0,
  "metadata": {
    "colab": {
      "provenance": [],
      "gpuType": "T4",
      "authorship_tag": "ABX9TyNiva2/uOo9oHxtz5ekyQDp",
      "include_colab_link": true
    },
    "kernelspec": {
      "name": "python3",
      "display_name": "Python 3"
    },
    "language_info": {
      "name": "python"
    },
    "accelerator": "GPU"
  },
  "cells": [
    {
      "cell_type": "markdown",
      "metadata": {
        "id": "view-in-github",
        "colab_type": "text"
      },
      "source": [
        "<a href=\"https://colab.research.google.com/github/gosaitos/GEN-AI/blob/main/Youtube_video_summarizer.ipynb\" target=\"_parent\"><img src=\"https://colab.research.google.com/assets/colab-badge.svg\" alt=\"Open In Colab\"/></a>"
      ]
    },
    {
      "cell_type": "code",
      "source": [
        "#!pip install langchain transformers yt-dlp pydub\n",
        "#!pip install -U langchain-community\n",
        "#!pip install youtube-transcript-api\n"
      ],
      "metadata": {
        "id": "qWxOhaz0digQ"
      },
      "execution_count": 4,
      "outputs": []
    },
    {
      "cell_type": "code",
      "source": [
        "from langchain.document_loaders import YoutubeLoader\n",
        "from langchain.text_splitter import RecursiveCharacterTextSplitter\n",
        "from transformers import pipeline\n",
        "\n",
        "# Step 1: Get YouTube Transcript\n",
        "def fetch_transcript(video_url):\n",
        "    loader = YoutubeLoader.from_youtube_url(video_url, add_video_info=False)\n",
        "    docs = loader.load()\n",
        "    if not docs:\n",
        "        raise ValueError(\"❌ No transcript found.\")\n",
        "    return docs[0].page_content\n",
        "\n",
        "# Step 2: Split Transcript\n",
        "def split_text(text, chunk_size=1000, chunk_overlap=100):\n",
        "    splitter = RecursiveCharacterTextSplitter(chunk_size=chunk_size, chunk_overlap=chunk_overlap)\n",
        "    return splitter.split_text(text)\n",
        "\n",
        "# Step 3: Translate Tamil → English (if needed)\n",
        "def translate_chunks(chunks, source_lang='ta'):\n",
        "    if source_lang == 'ta':\n",
        "        translator = pipeline(\"translation\", model=\"Helsinki-NLP/opus-mt-en-ta\")\n",
        "        translated = []\n",
        "        for chunk in chunks:\n",
        "            try:\n",
        "                result = translator(chunk[:512])[0]['translation_text']\n",
        "                translated.append(result)\n",
        "            except Exception as e:\n",
        "                print(f\"⚠️ Translation error: {e}\")\n",
        "        return translated\n",
        "    return chunks\n",
        "\n",
        "# Step 4: Summarize Text\n",
        "def summarize_chunks(chunks):\n",
        "    summarizer = pipeline(\"summarization\", model=\"facebook/bart-large-cnn\")\n",
        "    summaries = []\n",
        "    for chunk in chunks:\n",
        "        try:\n",
        "            result = summarizer(chunk, max_length=50, min_length=10, do_sample=False)\n",
        "            summaries.append(result[0]['summary_text'])\n",
        "        except Exception as e:\n",
        "            print(f\"⚠️ Summarization error: {e}\")\n",
        "    return \"\\n\".join(summaries)\n",
        "\n",
        "# Step 5: Full Pipeline\n",
        "def summarize_youtube_video(video_url, source_language='auto'):\n",
        "    print(\"📥 Fetching transcript...\")\n",
        "    transcript = fetch_transcript(video_url)\n",
        "\n",
        "    print(\"✂️ Splitting transcript...\")\n",
        "    chunks = split_text(transcript)\n",
        "\n",
        "    if source_language == 'ta':\n",
        "        print(\"🌐 Translating Tamil → English...\")\n",
        "        chunks = translate_chunks(chunks, source_lang='ta')\n",
        "\n",
        "    print(\"🧠 Summarizing chunks...\")\n",
        "    final_summary = summarize_chunks(chunks)\n",
        "\n",
        "    return final_summary\n",
        "\n",
        "# Run\n",
        "if __name__ == \"__main__\":\n",
        "    url = input(\"📺 YouTube URL: \").strip()\n",
        "    lang = input(\"🌐 Language? ('ta' for Tamil, leave empty for English): \").strip() or 'auto'\n",
        "    try:\n",
        "        summary = summarize_youtube_video(url, source_language=lang)\n",
        "        print(\"\\n✅ Final Summary:\\n\")\n",
        "        print(summary)\n",
        "    except Exception as e:\n",
        "        print(f\"❌ Error: {str(e)}\")\n"
      ],
      "metadata": {
        "id": "JAVO6cQhb1OX"
      },
      "execution_count": null,
      "outputs": []
    },
    {
      "cell_type": "code",
      "source": [],
      "metadata": {
        "id": "TcyOJ8KNcQBf"
      },
      "execution_count": null,
      "outputs": []
    }
  ]
}
