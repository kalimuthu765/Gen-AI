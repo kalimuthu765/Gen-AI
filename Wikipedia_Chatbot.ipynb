{
 "cells": [
  {
   "cell_type": "code",
   "execution_count": null,
   "metadata": {
    "colab": {
     "base_uri": "https://localhost:8080/",
     "height": 646
    },
    "id": "LBWwGzFNIfOM",
    "outputId": "34f56ce7-2475-425d-9faa-051433fe2997"
   },
   "outputs": [
    {
     "name": "stdout",
     "output_type": "stream",
     "text": [
      "It looks like you are running Gradio on a hosted a Jupyter notebook. For the Gradio app to work, sharing must be enabled. Automatically setting `share=True` (you can turn this off by setting `share=False` in `launch()` explicitly).\n",
      "\n",
      "Colab notebook detected. This cell will run indefinitely so that you can see errors and logs. To turn off, set debug=False in launch().\n",
      "* Running on public URL: https://a5d8bc6c01b06fe459.gradio.live\n",
      "\n",
      "This share link expires in 1 week. For free permanent hosting and GPU upgrades, run `gradio deploy` from the terminal in the working directory to deploy to Hugging Face Spaces (https://huggingface.co/spaces)\n"
     ]
    },
    {
     "data": {
      "text/html": [
       "<div><iframe src=\"https://a5d8bc6c01b06fe459.gradio.live\" width=\"100%\" height=\"500\" allow=\"autoplay; camera; microphone; clipboard-read; clipboard-write;\" frameborder=\"0\" allowfullscreen></iframe></div>"
      ],
      "text/plain": [
       "<IPython.core.display.HTML object>"
      ]
     },
     "metadata": {},
     "output_type": "display_data"
    }
   ],
   "source": [
    "import wikipedia\n",
    "import gradio as gr\n",
    "import google.generativeai as genai\n",
    "\n",
    "\n",
    "genai.configure(api_key=\"\")\n",
    "\n",
    "def chatbot(query):\n",
    "    try:\n",
    "\n",
    "        search_results = wikipedia.search(query)\n",
    "        print(f\"Wikipedia search results: {search_results}\")\n",
    "\n",
    "        if not search_results:\n",
    "            return \"No results found on Wikipedia. Try a different query.\"\n",
    "\n",
    "\n",
    "        page_title = search_results[0]\n",
    "        try:\n",
    "            response = wikipedia.summary(page_title, sentences=2)\n",
    "        except wikipedia.exceptions.DisambiguationError as e:\n",
    "            return f\"Your query is ambiguous. Did you mean: {', '.join(e.options[:5])}?\"\n",
    "        except wikipedia.exceptions.PageError as e:\n",
    "            return \"I couldn't find anything on that topic. Try another keyword.\"\n",
    "\n",
    "        try:\n",
    "            model = genai.GenerativeModel(\"gemini-1.5-pro\")\n",
    "            llm_response = model.generate_content(f\"Summarize this Wikipedia information in an engaging way: {response}\")\n",
    "            enhanced_response = llm_response.text\n",
    "        except Exception as e:\n",
    "            print(f\"Error during Gemini API call: {e}\")\n",
    "            enhanced_response = \"Sorry, I couldn't enhance the response with Gemini.\"\n",
    "\n",
    "        return f\"**Wikipedia Summary ({page_title}):**\\n{response}\\n\\n**Enhanced Response:**\\n{enhanced_response}\"\n",
    "\n",
    "    except Exception as e:\n",
    "        import traceback\n",
    "        return f\"Unexpected Error:\\n{traceback.format_exc()}\"\n",
    "\n",
    "# Gradio UI\n",
    "iface = gr.Interface(fn=chatbot, inputs=\"text\", outputs=\"text\", title=\"Gemini Wikipedia Chatbot\")\n",
    "iface.launch(debug=True)"
   ]
  },
  {
   "cell_type": "code",
   "execution_count": null,
   "metadata": {
    "id": "iWwA2odhk7Th"
   },
   "outputs": [],
   "source": []
  }
 ],
 "metadata": {
  "colab": {
   "authorship_tag": "ABX9TyNzYsDV3Zs/xXq16IaYTyfL",
   "provenance": []
  },
  "kernelspec": {
   "display_name": "Python 3 (ipykernel)",
   "language": "python",
   "name": "python3"
  },
  "language_info": {
   "codemirror_mode": {
    "name": "ipython",
    "version": 3
   },
   "file_extension": ".py",
   "mimetype": "text/x-python",
   "name": "python",
   "nbconvert_exporter": "python",
   "pygments_lexer": "ipython3",
   "version": "3.13.2"
  }
 },
 "nbformat": 4,
 "nbformat_minor": 4
}
