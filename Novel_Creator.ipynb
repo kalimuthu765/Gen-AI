{
  "nbformat": 4,
  "nbformat_minor": 0,
  "metadata": {
    "colab": {
      "provenance": [],
      "gpuType": "T4",
      "include_colab_link": true
    },
    "kernelspec": {
      "name": "python3",
      "display_name": "Python 3"
    },
    "language_info": {
      "name": "python"
    },
    "accelerator": "GPU"
  },
  "cells": [
    {
      "cell_type": "markdown",
      "metadata": {
        "id": "view-in-github",
        "colab_type": "text"
      },
      "source": [
        "<a href=\"https://colab.research.google.com/github/harishvicky-23/GEN-AI/blob/main/(Project)_Novel_Creator.ipynb\" target=\"_parent\"><img src=\"https://colab.research.google.com/assets/colab-badge.svg\" alt=\"Open In Colab\"/></a>"
      ]
    },
    {
      "cell_type": "code",
      "execution_count": null,
      "metadata": {
        "id": "Y2-j1dcvLt4a"
      },
      "outputs": [],
      "source": [
        "!pip install diffusers transformers accelerate safetensors\n",
        "!pip install --upgrade Pillow requests"
      ]
    },
    {
      "cell_type": "code",
      "source": [
        "import torch\n",
        "from diffusers import StableDiffusionXLPipeline, KDPM2AncestralDiscreteScheduler, AutoencoderKL\n",
        "from PIL import ImageDraw, ImageFont, Image\n",
        "import requests\n",
        "import json\n",
        "import time\n",
        "\n",
        "# 🔑 OpenRouter API key\n",
        "API_KEY = \"\"  # <-- Replace this\n",
        "\n",
        "# 🚀 Load VAE and anime model\n",
        "vae = AutoencoderKL.from_pretrained(\n",
        "    \"madebyollin/sdxl-vae-fp16-fix\", torch_dtype=torch.float16\n",
        ")\n",
        "pipe = StableDiffusionXLPipeline.from_pretrained(\n",
        "    \"enhanceaiteam/AnimeSAI\",\n",
        "    vae=vae,\n",
        "    torch_dtype=torch.float16\n",
        ")\n",
        "pipe.scheduler = KDPM2AncestralDiscreteScheduler.from_config(pipe.scheduler.config)\n",
        "pipe.to('cuda')\n",
        "\n",
        "\n",
        "def generate_story(prompt, title=\"My Story\"):\n",
        "    print(f\"\\n📖 Generating full story: {title}\")\n",
        "    headers = {\n",
        "        \"Authorization\": f\"Bearer {API_KEY}\",\n",
        "        \"Content-Type\": \"application/json\"\n",
        "    }\n",
        "    data = {\n",
        "        \"model\": \"openai/gpt-3.5-turbo\",\n",
        "        \"messages\": [\n",
        "            {\"role\": \"system\", \"content\": \"You are a creative story writer. Write vivid and emotional stories with strong character development.\"},\n",
        "            {\"role\": \"user\", \"content\": f\"Write a complete 1000-word story based on: '{prompt}'.\"}\n",
        "        ],\n",
        "        \"temperature\": 0.9,\n",
        "        \"max_tokens\": 3000\n",
        "    }\n",
        "\n",
        "    try:\n",
        "        response = requests.post(\"https://openrouter.ai/api/v1/chat/completions\", headers=headers, data=json.dumps(data))\n",
        "        result = response.json()\n",
        "        if 'choices' not in result:\n",
        "            print(f\"❌ Error generating story:\\n{json.dumps(result, indent=2)}\")\n",
        "            story_text = \"[Error generating story]\"\n",
        "        else:\n",
        "            story_text = result['choices'][0]['message']['content']\n",
        "    except Exception as e:\n",
        "        print(f\"Exception: {e}\")\n",
        "        story_text = \"[Exception generating story]\"\n",
        "\n",
        "    filename = f\"{title.replace(' ', '_').lower()}.txt\"\n",
        "    with open(filename, 'w', encoding='utf-8') as f:\n",
        "        f.write(story_text)\n",
        "    print(f\"\\n✅ Story saved as: {filename}\")\n",
        "\n",
        "\n",
        "def generate_image(prompt, title):\n",
        "    print(\"\\n🖼️ Generating cover image...\")\n",
        "    prompt = f\"{prompt}, anime, masterpiece, high quality\"\n",
        "    image = pipe(\n",
        "        prompt,\n",
        "        negative_prompt=\"low quality, blurry\",\n",
        "        width=1024,\n",
        "        height=1024,\n",
        "        guidance_scale=7,\n",
        "        num_inference_steps=50,\n",
        "        clip_skip=2\n",
        "    ).images[0]\n",
        "\n",
        "    draw = ImageDraw.Draw(image)\n",
        "    font = ImageFont.load_default()\n",
        "\n",
        "    # Center the title at bottom\n",
        "    bbox = draw.textbbox((0, 0), title, font=font)\n",
        "    text_width = bbox[2] - bbox[0]\n",
        "    text_height = bbox[3] - bbox[1]\n",
        "    W, H = image.size\n",
        "\n",
        "    draw.text(\n",
        "        ((W - text_width) / 2, H - text_height - 20),\n",
        "        title,\n",
        "        fill=\"white\",\n",
        "        font=font\n",
        "    )\n",
        "\n",
        "    filename = f\"{title.replace(' ', '_').lower()}.png\"\n",
        "    image.save(filename)\n",
        "    print(f\"✅ Cover image saved as: {filename}\")\n",
        "\n",
        "# 🧠 MAIN FLOW\n",
        "if __name__ == \"__main__\":\n",
        "    img_prompt = input(\"Enter prompt for cover pic image: \")\n",
        "    story_prompt = input(\"📥 Enter your story idea (1 line): \")\n",
        "    story_title = input(\"🎨 Enter a title for your story: \")\n",
        "    generate_image(img_prompt, story_title)\n",
        "    generate_story(story_prompt, story_title)\n"
      ],
      "metadata": {
        "id": "btnHQ6RMamDp"
      },
      "execution_count": null,
      "outputs": []
    },
    {
      "cell_type": "code",
      "source": [
        "from diffusers import StableDiffusionPipeline\n",
        "import torch\n",
        "\n",
        "model_id = \"dreamlike-art/dreamlike-anime-1.0\"\n",
        "pipe = StableDiffusionPipeline.from_pretrained(model_id, torch_dtype=torch.float16)\n",
        "pipe = pipe.to(\"cuda\")\n",
        "\n",
        "#prompt = \"anime, masterpiece, high quality, 1man, solo, long hair, looking at viewer, angry, red eyes, warrior dress, muscular, middle of a forest, with a sword, with the title 'never rest' written on sky\"\n",
        "prompt = \"a muscular agent, white suit, red eyes, modern weapons, riding on a motorbike, front view, white sports motorbike, with the title 'AGENT AWAKENED' on top right of the image\"\n",
        "negative_prompt = 'simple background, duplicate, retro style, low quality, lowest quality, 1980s, 1990s, 2000s, 2005 2006 2007 2008 2009 2010 2011 2012 2013, bad anatomy, bad proportions, extra digits, lowres, username, artist name, error, duplicate, watermark, signature, text, extra digit, fewer digits, worst quality, jpeg artifacts, blurry'\n",
        "image = pipe(prompt, negative_prompt=negative_prompt).images[0]\n",
        "\n",
        "image.save(\"./result.jpg\")\n"
      ],
      "metadata": {
        "id": "XgwSYHvsMQgm"
      },
      "execution_count": null,
      "outputs": []
    },
    {
      "cell_type": "code",
      "source": [
        "import torch\n",
        "from torch import autocast\n",
        "from diffusers import StableDiffusionXLPipeline, EulerAncestralDiscreteScheduler\n",
        "\n",
        "model = \"Linaqruf/animagine-xl\"\n",
        "\n",
        "pipe = StableDiffusionXLPipeline.from_pretrained(\n",
        "    model,\n",
        "    torch_dtype=torch.float16,\n",
        "    use_safetensors=True,\n",
        "    variant=\"fp16\"\n",
        "    )\n",
        "\n",
        "pipe.scheduler = EulerAncestralDiscreteScheduler.from_config(pipe.scheduler.config)\n",
        "pipe.to('cpu')\n",
        "\n",
        "#prompt = \"anime, masterpiece, high quality, 1man, solo, long hair, looking at viewer, angry, red eyes, warrior dress, muscular, middle of a forest, with a sword, with the title 'never rest' written on sky\"\n",
        "prompt = \"a muscular agent, white suit, red eyes, modern weapons, riding on a motorbike, front view, white sports motorbike, title written as 'AGENT ROSS' floating above the character in matching font\"\n",
        "negative_prompt = \"lowres, bad anatomy, bad hands, text, error, missing fingers, extra digit, fewer digits, cropped, worst quality, low quality, normal quality, jpeg artifacts, signature, watermark, username, blurry\"\n",
        "\n",
        "image = pipe(\n",
        "    prompt,\n",
        "    negative_prompt=negative_prompt,\n",
        "    width=1024,\n",
        "    height=1024,\n",
        "    guidance_scale=12,\n",
        "    target_size=(1024,1024),\n",
        "    original_size=(4096,4096),\n",
        "    num_inference_steps=50\n",
        "    ).images[0]\n",
        "\n",
        "image.save(\"anime_girl.png\")\n"
      ],
      "metadata": {
        "id": "f0tvh6cIRWCf"
      },
      "execution_count": null,
      "outputs": []
    },
    {
      "cell_type": "markdown",
      "source": [
        "\"with the title '<Your Title>' written on a sign/scroll/cloud/stone\"\n",
        "\n",
        "\"with '<Your Title>' carved into a tree / glowing in the sky\"\n",
        "\n",
        "\"title '<Your Title>' floating above the character in matching font\"\n",
        "\n",
        "\"the word '<Your Title>' stylized as part of the environment\"\n",
        "\n",
        "Choose font style or medium to match the theme:\n",
        "\n",
        "\"gothic letters\", \"sci-fi holographic text\", \"ancient runes\", \"pixelated game-style font\"\n",
        "\n",
        "Include scene context for where to place text:\n",
        "\n",
        "\"at the top of the mountain\", \"on a banner in the background\", \"hovering above the protagonist\""
      ],
      "metadata": {
        "id": "cLK_Vpzrcyph"
      }
    },
    {
      "cell_type": "code",
      "source": [],
      "metadata": {
        "id": "HMr_V9Mfbho0"
      },
      "execution_count": null,
      "outputs": []
    }
  ]
}