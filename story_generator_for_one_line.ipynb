{
 "cells": [
  {
   "cell_type": "code",
   "execution_count": 15,
   "metadata": {
    "colab": {
     "base_uri": "https://localhost:8080/",
     "height": 327,
     "referenced_widgets": [
      "8e23f15953364abd99958ee76db8ef9a",
      "b76190a911004202aa1a89646d2d594d",
      "84c90a8e0e9a44a68e07942a02c35265",
      "d54f3f45655f425a9b846457b8b40782",
      "efe1174a64fe4b469bafddadea1657ab",
      "7541948226f642858479d64d31dff521"
     ]
    },
    "executionInfo": {
     "elapsed": 209,
     "status": "ok",
     "timestamp": 1744867939558,
     "user": {
      "displayName": "Kali Muthu",
      "userId": "13932889007039424279"
     },
     "user_tz": -330
    },
    "id": "Uo_qZ0xeOvx-",
    "outputId": "e5d6e5c1-1d2c-48e8-8257-f6a32f2e992c"
   },
   "outputs": [
    {
     "data": {
      "application/vnd.jupyter.widget-view+json": {
       "model_id": "8e23f15953364abd99958ee76db8ef9a",
       "version_major": 2,
       "version_minor": 0
      },
      "text/plain": [
       "Textarea(value='', description='Story Events:', layout=Layout(height='150px', width='100%'), placeholder='Type…"
      ]
     },
     "metadata": {},
     "output_type": "display_data"
    },
    {
     "data": {
      "application/vnd.jupyter.widget-view+json": {
       "model_id": "d54f3f45655f425a9b846457b8b40782",
       "version_major": 2,
       "version_minor": 0
      },
      "text/plain": [
       "Button(description='Generate Story', style=ButtonStyle())"
      ]
     },
     "metadata": {},
     "output_type": "display_data"
    },
    {
     "name": "stdout",
     "output_type": "stream",
     "text": [
      "\n",
      "Generated Story:\n",
      "Once upon a time, In a land far away, there was a story to tell. \n",
      "Then came a great challenge: Something happened that changed everything. \n",
      "But the story did not end in despair. In the end: And in the end, everything was resolved. \n",
      "And thus, the story of this time was told.\n"
     ]
    }
   ],
   "source": [
    "import ipywidgets as widgets\n",
    "from IPython.display import display\n",
    "\n",
    "# Function that converts the input text into a story\n",
    "def tell_story(text):\n",
    "    sentences = text.split(\".\")\n",
    "\n",
    "    intro = \"\"\n",
    "    conflict = \"\"\n",
    "    resolution = \"\"\n",
    "\n",
    "    if len(sentences) > 3:\n",
    "        intro = sentences[0] + \". \" + sentences[1] + \".\"\n",
    "        conflict = sentences[2] + \". \" + sentences[3] + \".\"\n",
    "        resolution = sentences[4] + \".\"\n",
    "    else:\n",
    "        intro = \"In a land far away, there was a story to tell.\"\n",
    "        conflict = \"Something happened that changed everything.\"\n",
    "        resolution = \"And in the end, everything was resolved.\"\n",
    "\n",
    "    story = f\"Once upon a time, {intro} \\nThen came a great challenge: {conflict} \\nBut the story did not end in despair. In the end: {resolution} \\nAnd thus, the story of this time was told.\"\n",
    "\n",
    "    return story\n",
    "\n",
    "# Create a text input area (textarea)\n",
    "input_text = widgets.Textarea(\n",
    "    value='',\n",
    "    placeholder='Type the story events here...',\n",
    "    description='Story Events:',\n",
    "    disabled=False,\n",
    "    layout=widgets.Layout(width='100%', height='150px')\n",
    ")\n",
    "\n",
    "# Create a button to generate the story\n",
    "generate_button = widgets.Button(description=\"Generate Story\")\n",
    "\n",
    "# Function to handle button click\n",
    "def generate_story(change):\n",
    "    user_input = input_text.value.strip()\n",
    "\n",
    "    if not user_input:\n",
    "        print(\"Please enter some text to generate the story!\")\n",
    "    else:\n",
    "        story = tell_story(user_input)\n",
    "        print(\"\\nGenerated Story:\")\n",
    "        print(story)\n",
    "\n",
    "# Attach the function to the button\n",
    "generate_button.on_click(generate_story)\n",
    "\n",
    "# Display the widgets in the Colab output\n",
    "display(input_text, generate_button)\n"
   ]
  },
  {
   "cell_type": "code",
   "execution_count": 20,
   "metadata": {
    "colab": {
     "base_uri": "https://localhost:8080/",
     "height": 646
    },
    "executionInfo": {
     "elapsed": 7415,
     "status": "ok",
     "timestamp": 1744869622902,
     "user": {
      "displayName": "Kali Muthu",
      "userId": "13932889007039424279"
     },
     "user_tz": -330
    },
    "id": "mfOz7o-YSTbP",
    "outputId": "762e95ca-5a3e-48e8-ce25-323b5e88bb94"
   },
   "outputs": [
    {
     "name": "stdout",
     "output_type": "stream",
     "text": [
      "It looks like you are running Gradio on a hosted a Jupyter notebook. For the Gradio app to work, sharing must be enabled. Automatically setting `share=True` (you can turn this off by setting `share=False` in `launch()` explicitly).\n",
      "\n",
      "Colab notebook detected. To show errors in colab notebook, set debug=True in launch()\n",
      "* Running on public URL: https://893c10531dab8cad9c.gradio.live\n",
      "\n",
      "This share link expires in 1 week. For free permanent hosting and GPU upgrades, run `gradio deploy` from the terminal in the working directory to deploy to Hugging Face Spaces (https://huggingface.co/spaces)\n"
     ]
    },
    {
     "data": {
      "text/html": [
       "<div><iframe src=\"https://893c10531dab8cad9c.gradio.live\" width=\"100%\" height=\"500\" allow=\"autoplay; camera; microphone; clipboard-read; clipboard-write;\" frameborder=\"0\" allowfullscreen></iframe></div>"
      ],
      "text/plain": [
       "<IPython.core.display.HTML object>"
      ]
     },
     "metadata": {},
     "output_type": "display_data"
    },
    {
     "data": {
      "text/plain": []
     },
     "execution_count": 20,
     "metadata": {},
     "output_type": "execute_result"
    }
   ],
   "source": [
    "import requests\n",
    "import gradio as gr\n",
    "\n",
    "api_key = \"\"\n",
    "\n",
    "headers = {\n",
    "    \"Authorization\": f\"Bearer {api_key}\",\n",
    "    \"Content-Type\": \"application/json\"\n",
    "}\n",
    "\n",
    "def generate_story(context):\n",
    "    payload = {\n",
    "        \"model\": \"openai/gpt-3.5-turbo\",\n",
    "        \"messages\": [\n",
    "            {\"role\": \"system\", \"content\": \"You are a creative and engaging storyteller.\"},\n",
    "            {\"role\": \"user\", \"content\": f\"Write a fictional story based on this context: {context}\"}\n",
    "        ],\n",
    "        \"temperature\": 0.9,\n",
    "        \"max_tokens\": 500\n",
    "    }\n",
    "\n",
    "    response = requests.post(url, headers=headers, json=payload)\n",
    "\n",
    "    if response.status_code == 200:\n",
    "        result = response.json()\n",
    "        return result['choices'][0]['message']['content']\n",
    "    else:\n",
    "        return f\"Error: {response.status_code}, {response.text}\"\n",
    "\n",
    "# Gradio UI\n",
    "interface = gr.Interface(\n",
    "    fn=generate_story,\n",
    "    inputs=gr.Textbox(lines=2, placeholder=\"Enter your story context here...\"),\n",
    "    outputs=gr.Textbox(label=\"Generated Story\"),\n",
    "    title=\"AI Storytelling with OpenRouter\",\n",
    "    description=\"Give a context, and the AI will craft a creative story using GPT-3.5 Turbo via OpenRouter.\"\n",
    ")\n",
    "\n",
    "interface.launch()"
   ]
  },
  {
   "cell_type": "code",
   "execution_count": null,
   "metadata": {
    "id": "sy-b5r0TUoj_"
   },
   "outputs": [],
   "source": []
  }
 ],
 "metadata": {
  "colab": {
   "authorship_tag": "ABX9TyPRheZ5qJ1Dmke+3QHyAEkR",
   "provenance": []
  },
  "kernelspec": {
   "display_name": "Python 3 (ipykernel)",
   "language": "python",
   "name": "python3"
  },
  "language_info": {
   "codemirror_mode": {
    "name": "ipython",
    "version": 3
   },
   "file_extension": ".py",
   "mimetype": "text/x-python",
   "name": "python",
   "nbconvert_exporter": "python",
   "pygments_lexer": "ipython3",
   "version": "3.13.2"
  },
  "widgets": {
   "application/vnd.jupyter.widget-state+json": {
    "7541948226f642858479d64d31dff521": {
     "model_module": "@jupyter-widgets/controls",
     "model_module_version": "1.5.0",
     "model_name": "ButtonStyleModel",
     "state": {
      "_model_module": "@jupyter-widgets/controls",
      "_model_module_version": "1.5.0",
      "_model_name": "ButtonStyleModel",
      "_view_count": null,
      "_view_module": "@jupyter-widgets/base",
      "_view_module_version": "1.2.0",
      "_view_name": "StyleView",
      "button_color": null,
      "font_weight": ""
     }
    },
    "84c90a8e0e9a44a68e07942a02c35265": {
     "model_module": "@jupyter-widgets/controls",
     "model_module_version": "1.5.0",
     "model_name": "DescriptionStyleModel",
     "state": {
      "_model_module": "@jupyter-widgets/controls",
      "_model_module_version": "1.5.0",
      "_model_name": "DescriptionStyleModel",
      "_view_count": null,
      "_view_module": "@jupyter-widgets/base",
      "_view_module_version": "1.2.0",
      "_view_name": "StyleView",
      "description_width": ""
     }
    },
    "8e23f15953364abd99958ee76db8ef9a": {
     "model_module": "@jupyter-widgets/controls",
     "model_module_version": "1.5.0",
     "model_name": "TextareaModel",
     "state": {
      "_dom_classes": [],
      "_model_module": "@jupyter-widgets/controls",
      "_model_module_version": "1.5.0",
      "_model_name": "TextareaModel",
      "_view_count": null,
      "_view_module": "@jupyter-widgets/controls",
      "_view_module_version": "1.5.0",
      "_view_name": "TextareaView",
      "continuous_update": true,
      "description": "Story Events:",
      "description_tooltip": null,
      "disabled": false,
      "layout": "IPY_MODEL_b76190a911004202aa1a89646d2d594d",
      "placeholder": "Type the story events here...",
      "rows": null,
      "style": "IPY_MODEL_84c90a8e0e9a44a68e07942a02c35265",
      "value": "i want ice cream\n\n"
     }
    },
    "b76190a911004202aa1a89646d2d594d": {
     "model_module": "@jupyter-widgets/base",
     "model_module_version": "1.2.0",
     "model_name": "LayoutModel",
     "state": {
      "_model_module": "@jupyter-widgets/base",
      "_model_module_version": "1.2.0",
      "_model_name": "LayoutModel",
      "_view_count": null,
      "_view_module": "@jupyter-widgets/base",
      "_view_module_version": "1.2.0",
      "_view_name": "LayoutView",
      "align_content": null,
      "align_items": null,
      "align_self": null,
      "border": null,
      "bottom": null,
      "display": null,
      "flex": null,
      "flex_flow": null,
      "grid_area": null,
      "grid_auto_columns": null,
      "grid_auto_flow": null,
      "grid_auto_rows": null,
      "grid_column": null,
      "grid_gap": null,
      "grid_row": null,
      "grid_template_areas": null,
      "grid_template_columns": null,
      "grid_template_rows": null,
      "height": "150px",
      "justify_content": null,
      "justify_items": null,
      "left": null,
      "margin": null,
      "max_height": null,
      "max_width": null,
      "min_height": null,
      "min_width": null,
      "object_fit": null,
      "object_position": null,
      "order": null,
      "overflow": null,
      "overflow_x": null,
      "overflow_y": null,
      "padding": null,
      "right": null,
      "top": null,
      "visibility": null,
      "width": "100%"
     }
    },
    "d54f3f45655f425a9b846457b8b40782": {
     "model_module": "@jupyter-widgets/controls",
     "model_module_version": "1.5.0",
     "model_name": "ButtonModel",
     "state": {
      "_dom_classes": [],
      "_model_module": "@jupyter-widgets/controls",
      "_model_module_version": "1.5.0",
      "_model_name": "ButtonModel",
      "_view_count": null,
      "_view_module": "@jupyter-widgets/controls",
      "_view_module_version": "1.5.0",
      "_view_name": "ButtonView",
      "button_style": "",
      "description": "Generate Story",
      "disabled": false,
      "icon": "",
      "layout": "IPY_MODEL_efe1174a64fe4b469bafddadea1657ab",
      "style": "IPY_MODEL_7541948226f642858479d64d31dff521",
      "tooltip": ""
     }
    },
    "efe1174a64fe4b469bafddadea1657ab": {
     "model_module": "@jupyter-widgets/base",
     "model_module_version": "1.2.0",
     "model_name": "LayoutModel",
     "state": {
      "_model_module": "@jupyter-widgets/base",
      "_model_module_version": "1.2.0",
      "_model_name": "LayoutModel",
      "_view_count": null,
      "_view_module": "@jupyter-widgets/base",
      "_view_module_version": "1.2.0",
      "_view_name": "LayoutView",
      "align_content": null,
      "align_items": null,
      "align_self": null,
      "border": null,
      "bottom": null,
      "display": null,
      "flex": null,
      "flex_flow": null,
      "grid_area": null,
      "grid_auto_columns": null,
      "grid_auto_flow": null,
      "grid_auto_rows": null,
      "grid_column": null,
      "grid_gap": null,
      "grid_row": null,
      "grid_template_areas": null,
      "grid_template_columns": null,
      "grid_template_rows": null,
      "height": null,
      "justify_content": null,
      "justify_items": null,
      "left": null,
      "margin": null,
      "max_height": null,
      "max_width": null,
      "min_height": null,
      "min_width": null,
      "object_fit": null,
      "object_position": null,
      "order": null,
      "overflow": null,
      "overflow_x": null,
      "overflow_y": null,
      "padding": null,
      "right": null,
      "top": null,
      "visibility": null,
      "width": null
     }
    }
   }
  }
 },
 "nbformat": 4,
 "nbformat_minor": 4
}
