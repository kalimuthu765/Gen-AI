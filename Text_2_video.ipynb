{
 "cells": [
  {
   "cell_type": "markdown",
   "metadata": {
    "colab_type": "text",
    "id": "view-in-github"
   },
   "source": [
    "<a href=\"https://colab.research.google.com/github/gosaitos/GEN-AI/blob/main/Text_2_video.ipynb\" target=\"_parent\"><img src=\"https://colab.research.google.com/assets/colab-badge.svg\" alt=\"Open In Colab\"/></a>"
   ]
  },
  {
   "cell_type": "code",
   "execution_count": null,
   "metadata": {
    "id": "7GGWFBohIyqB"
   },
   "outputs": [],
   "source": [
    "from diffusers import DiffusionPipeline\n",
    "import torch\n",
    "import numpy as np\n",
    "import imageio\n",
    "from PIL import Image\n",
    "\n",
    "# Load pipeline\n",
    "pipe = DiffusionPipeline.from_pretrained(\n",
    "    \"damo-vilab/text-to-video-ms-1.7b\",\n",
    "    torch_dtype=torch.float16,\n",
    "    variant=\"fp16\"\n",
    ").to(\"cuda\")\n",
    "\n",
    "# Generate batched video frames\n",
    "prompt = input('enter a text:')\n",
    "video_batches = pipe(prompt, num_inference_steps=50).frames\n",
    "\n",
    "# Frame upscaling target\n",
    "target_resolution = (512, 512)\n",
    "\n",
    "# Flatten & process frames\n",
    "processed_frames = []\n",
    "\n",
    "for i, batch in enumerate(video_batches):\n",
    "    for j, frame in enumerate(batch):\n",
    "        # Normalize and convert to uint8\n",
    "        if frame.dtype != np.uint8:\n",
    "            frame = (frame * 255).clip(0, 255).astype(np.uint8)\n",
    "\n",
    "        # Ensure RGB format\n",
    "        if frame.ndim == 2:\n",
    "            frame = np.stack([frame] * 3, axis=-1)\n",
    "        elif frame.ndim == 3 and frame.shape[2] == 1:\n",
    "            frame = np.repeat(frame, 3, axis=2)\n",
    "        elif frame.ndim == 3 and frame.shape[2] > 4:\n",
    "            frame = frame[:, :, :3]\n",
    "\n",
    "        # Convert to PIL for resizing\n",
    "        image = Image.fromarray(frame)\n",
    "        image = image.resize(target_resolution, Image.LANCZOS)\n",
    "        processed_frames.append(np.array(image))\n",
    "\n",
    "print(f\"✅ Total processed frames: {len(processed_frames)}\")\n",
    "\n",
    "# Save high-quality MP4 using FFmpeg writer\n",
    "output_path = \"output.mp4\"\n",
    "writer = imageio.get_writer(\n",
    "    output_path,\n",
    "    fps=10,\n",
    "    codec='libx264',          # High quality H.264 codec\n",
    "    bitrate=\"10M\",             # Increase bitrate for better quality\n",
    "    quality=10                # Max quality\n",
    ")\n",
    "\n",
    "for frame in processed_frames:\n",
    "    writer.append_data(frame)\n",
    "writer.close()\n",
    "\n",
    "print(f\"video saved as {output_path}\")"
   ]
  }
 ],
 "metadata": {
  "accelerator": "GPU",
  "colab": {
   "authorship_tag": "ABX9TyOxE4H18Kul9HoIYoP0RqQH",
   "gpuType": "T4",
   "include_colab_link": true,
   "provenance": []
  },
  "kernelspec": {
   "display_name": "Python 3 (ipykernel)",
   "language": "python",
   "name": "python3"
  },
  "language_info": {
   "codemirror_mode": {
    "name": "ipython",
    "version": 3
   },
   "file_extension": ".py",
   "mimetype": "text/x-python",
   "name": "python",
   "nbconvert_exporter": "python",
   "pygments_lexer": "ipython3",
   "version": "3.13.2"
  }
 },
 "nbformat": 4,
 "nbformat_minor": 4
}
